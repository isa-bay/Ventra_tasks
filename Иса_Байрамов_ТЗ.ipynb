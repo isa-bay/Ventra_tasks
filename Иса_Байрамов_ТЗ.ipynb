{
  "nbformat": 4,
  "nbformat_minor": 0,
  "metadata": {
    "colab": {
      "provenance": [],
      "authorship_tag": "ABX9TyPkwjq3pt0vUSMBKYEj88HW",
      "include_colab_link": true
    },
    "kernelspec": {
      "name": "python3",
      "display_name": "Python 3"
    },
    "language_info": {
      "name": "python"
    }
  },
  "cells": [
    {
      "cell_type": "markdown",
      "metadata": {
        "id": "view-in-github",
        "colab_type": "text"
      },
      "source": [
        "<a href=\"https://colab.research.google.com/github/isa-bay/Ventra_tasks/blob/main/%D0%98%D1%81%D0%B0_%D0%91%D0%B0%D0%B9%D1%80%D0%B0%D0%BC%D0%BE%D0%B2_%D0%A2%D0%97.ipynb\" target=\"_parent\"><img src=\"https://colab.research.google.com/assets/colab-badge.svg\" alt=\"Open In Colab\"/></a>"
      ]
    },
    {
      "cell_type": "markdown",
      "source": [
        "У вас есть три таблицы с данными:\n",
        "1. stores — информация о магазинах:\n",
        "\n",
        "● store_id (INT) — уникальный идентификатор магазина.\n",
        "\n",
        "● city (VARCHAR) — город, в котором расположен магазин.\n",
        "\n",
        "● state (VARCHAR) — регион, где находится магазин.\n",
        "\n",
        "2. customers — информация о клиентах:\n",
        "\n",
        "● customer_id (INT) — уникальный идентификатор клиента.\n",
        "\n",
        "● name (VARCHAR) — имя клиента.\n",
        "\n",
        "● signup_date (DATE) — дата регистрации клиента.\n",
        "\n",
        "● store_id (INT) — идентификатор магазина, к которому относится клиент (где он чаще всего совершает покупки).\n",
        "\n",
        "3. transactions — информация о транзакциях:\n",
        "\n",
        "● transaction_id (INT) — уникальный идентификатор транзакции.\n",
        "\n",
        "● customer_id (INT) — идентификатор клиента, совершившего транзакцию.\n",
        "\n",
        "● store_id (INT) — идентификатор магазина, в котором была совершена транзакция.\n",
        "\n",
        "● transaction_date (DATE) — дата транзакции.\n",
        "\n",
        "● category (VARCHAR) — категория товара, связанная с транзакцией (например, \"Табак\", \"Аксессуары\").\n",
        "\n",
        "● amount (DECIMAL) — сумма покупки.\n"
      ],
      "metadata": {
        "id": "xKrTqo46xb7C"
      }
    },
    {
      "cell_type": "markdown",
      "source": [
        "\n",
        "\n",
        "1.   SQL часть\n",
        "\n",
        "\n",
        "*   Определите общее количество транзакций, совершенных клиентами в каждом магазине в 2023 году. Выведите store_id, city, state и transactions_count.\n",
        "*   Найдите всех клиентов, которые зарегистрировались в 2023 году и сделали хотя бы одну покупку за первый месяц после регистрации. Выведите customer_id, name и количество транзакций (transactions_count).\n",
        "*   Выведите три категории товаров с наибольшей общей суммой продаж (total_sales) за 2023 год, указав category, total_sales.\n",
        "\n",
        "\n",
        "2.   Python часть\n",
        "\n",
        "Напишите Python-скрипт, который:\n",
        "*   Создает базу данных SQLite и создает в ней три таблицы (stores, customers, transactions), используя предоставленные ниже данные.\n",
        "*   Выполняет описанные SQL-запросы и сохраняет результаты в три CSV-файла:\n",
        "store_transactions_2023.csv, new_customers.csv, top_categories.csv\n",
        "\n",
        "Реализуйте функцию analyze_sales_growth, которая:\n",
        "*   Принимает DataFrame с суммой продаж по месяцам за 2023 год (например, из\n",
        "top_categories.csv).\n",
        "*   Возвращает DataFrame с колонками month и growth_rate, где growth_rate — процентное изменение суммы продаж по сравнению с предыдущим месяцем\n",
        "\n",
        "\n",
        "3.   Вопросы по Airflow\n",
        "\n",
        "\n",
        "*   Что такое DAG?\n",
        "*   Назовите три главных компонента архитектуры Airflow?\n",
        "*   Можно ли менять код DAG'а прямо в веб версии приложения?"
      ],
      "metadata": {
        "id": "XihCe5CmEQJZ"
      }
    },
    {
      "cell_type": "markdown",
      "source": [
        "1. SQL\n",
        "\n",
        "Определил общее количество транзакций за 2023г:"
      ],
      "metadata": {
        "id": "jZazxqavTFnV"
      }
    },
    {
      "cell_type": "code",
      "source": [
        "SELECT t.store_id, s.city, s.state, COUNT(t.transaction_id) AS transactions_count\n",
        "FROM transactions t\n",
        "INNER JOIN stores s ON t.store_id = s.store_id\n",
        "WHERE strftime('%Y', t.transaction_date) = '2023'\n",
        "GROUP BY t.store_id, s.city, s.state;"
      ],
      "metadata": {
        "id": "z_u78FgubC8X"
      },
      "execution_count": null,
      "outputs": []
    },
    {
      "cell_type": "markdown",
      "source": [
        "Клиенты, зарегистрировавшиеся в 2023 году, совершившие покупку в первый месяц:"
      ],
      "metadata": {
        "id": "JT-osJ2RUVUS"
      }
    },
    {
      "cell_type": "code",
      "source": [
        "SELECT c.customer_id, c.name, COUNT(t.transaction_id) AS transactions_count\n",
        "FROM customers c\n",
        "INNER JOIN transactions t ON c.customer_id = t.customer_id\n",
        "WHERE strftime('%Y', c.signup_date) = '2023' AND\n",
        "    t.transaction_date BETWEEN c.signup_date AND\n",
        "    date(c.signup_date, '+1 month')\n",
        "GROUP BY c.customer_id, c.name\n",
        "HAVING COUNT(t.transaction_id) > 0;"
      ],
      "metadata": {
        "id": "MrXH5zhAUdNB"
      },
      "execution_count": null,
      "outputs": []
    },
    {
      "cell_type": "markdown",
      "source": [
        "Три категории товаров с наибольшей суммой продаж за 2023 год:"
      ],
      "metadata": {
        "id": "Gyex_FZOVCm9"
      }
    },
    {
      "cell_type": "code",
      "source": [
        "SELECT t.category, SUM(t.amount) AS total_sales\n",
        "FROM transactions t\n",
        "WHERE strftime('%Y', t.transaction_date) = '2023'\n",
        "GROUP BY t.category\n",
        "ORDER BY total_sales DESC\n",
        "LIMIT 3;"
      ],
      "metadata": {
        "id": "KCLnR0xrVMcv"
      },
      "execution_count": null,
      "outputs": []
    },
    {
      "cell_type": "markdown",
      "source": [
        "2. Python\n",
        "\n",
        "- подключаем библиотеки\n",
        "- подключаемся к БД, если ее нет - создается автоматически\n",
        "- создаем таблицы и наполняем данными\n",
        "- создаем переменные запросов и читаем их\n",
        "- сохраняем в csv\n",
        "- исключенре ошибок\n",
        "- функция analyze_sales_growth"
      ],
      "metadata": {
        "id": "xiLzcz9uS9Uy"
      }
    },
    {
      "cell_type": "code",
      "source": [
        "import sqlite3\n",
        "import pandas as pd\n",
        "\n",
        "\n",
        "try:\n",
        "    with sqlite3.connect('retail_db') as conn:\n",
        "        cursor = conn.cursor()\n",
        "\n",
        "        cursor.execute('''\n",
        "        CREATE TABLE IF NOT EXISTS stores (\n",
        "            store_id INTEGER PRIMARY KEY,\n",
        "            city TEXT,\n",
        "            state TEXT\n",
        "        )\n",
        "        ''')\n",
        "\n",
        "        stores_data = [\n",
        "            (1, 'Москва', 'ЦФО'),\n",
        "            (2, 'Санкт-Петербург', 'СЗФО'),\n",
        "            (3, 'Екатеринбург', 'УФО')\n",
        "        ]\n",
        "        cursor.executemany('INSERT INTO stores VALUES (?, ?, ?)', stores_data)\n",
        "\n",
        "        cursor.execute('''\n",
        "        CREATE TABLE IF NOT EXISTS customers (\n",
        "            customer_id INTEGER PRIMARY KEY,\n",
        "            name TEXT,\n",
        "            signup_date DATE,\n",
        "            store_id INTEGER,\n",
        "            FOREIGN KEY (store_id) REFERENCES stores(store_id)\n",
        "        )\n",
        "        ''')\n",
        "\n",
        "        customers_data = [\n",
        "            (1, 'Иван', '2023-01-05', 1),\n",
        "            (2, 'Ольга', '2023-02-10', 2),\n",
        "            (3, 'Сергей', '2023-01-15', 3),\n",
        "            (4, 'Мария', '2023-03-22', 2),\n",
        "            (5, 'Анна', '2023-05-13', 1)\n",
        "        ]\n",
        "        cursor.executemany('INSERT INTO customers VALUES (?, ?, ?, ?)', customers_data)\n",
        "\n",
        "        cursor.execute('''\n",
        "        CREATE TABLE IF NOT EXISTS transactions (\n",
        "            transaction_id INTEGER PRIMARY KEY,\n",
        "            customer_id INTEGER,\n",
        "            store_id INTEGER,\n",
        "            transaction_date DATE,\n",
        "            category TEXT,\n",
        "            amount REAL,\n",
        "            FOREIGN KEY (customer_id) REFERENCES customers(customer_id),\n",
        "            FOREIGN KEY (store_id) REFERENCES stores(store_id)\n",
        "        )\n",
        "        ''')\n",
        "\n",
        "        transactions_data = [\n",
        "            (1, 1, 1, '2023-01-10', 'Табак', 150),\n",
        "            (2, 1, 1, '2023-01-15', 'Аксессуары', 50),\n",
        "            (3, 2, 2, '2023-03-15', 'Табак', 200),\n",
        "            (4, 3, 3, '2023-01-18', 'Напитки', 75),\n",
        "            (5, 4, 2, '2023-04-20', 'Аксессуары', 30),\n",
        "            (6, 5, 1, '2023-06-18', 'Табак', 250)\n",
        "        ]\n",
        "        cursor.executemany('INSERT INTO transactions VALUES (?, ?, ?, ?, ?, ?)', transactions_data)\n",
        "\n",
        "        conn.commit()\n",
        "\n",
        "\n",
        "        query1 = '''\n",
        "        SELECT t.store_id, s.city, s.state,\n",
        "            COUNT(t.transaction_id) AS transactions_count\n",
        "        FROM transactions t\n",
        "        INNER JOIN stores s ON t.store_id = s.store_id\n",
        "        WHERE strftime('%Y', t.transaction_date) = '2023'\n",
        "        GROUP BY t.store_id, s.city, s.state;\n",
        "        '''\n",
        "\n",
        "        query2 = '''\n",
        "        SELECT c.customer_id, c.name, COUNT(t.transaction_id) AS transactions_count\n",
        "        FROM customers c\n",
        "        INNER JOIN transactions t ON c.customer_id = t.customer_id\n",
        "        WHERE strftime('%Y', c.signup_date) = '2023' AND\n",
        "            t.transaction_date BETWEEN c.signup_date AND\n",
        "            date(c.signup_date, '+1 month')\n",
        "        GROUP BY c.customer_id, c.name\n",
        "        HAVING COUNT(t.transaction_id) > 0;\n",
        "        '''\n",
        "\n",
        "        query3 = '''\n",
        "        SELECT t.category, SUM(t.amount) AS total_sales\n",
        "        FROM transactions t\n",
        "        WHERE strftime('%Y', t.transaction_date) = '2023'\n",
        "        GROUP BY t.category\n",
        "        ORDER BY total_sales DESC\n",
        "        LIMIT 3;\n",
        "        '''\n",
        "        query4 = '''\n",
        "        SELECT strftime('%Y-%m', transaction_date) AS month, SUM(amount) AS total_sales\n",
        "        FROM transactions\n",
        "        WHERE strftime('%Y', transaction_date) = '2023'\n",
        "        GROUP BY month\n",
        "        ORDER BY month;\n",
        "        '''\n",
        "\n",
        "\n",
        "        df1 = pd.read_sql_query(query1, conn)\n",
        "        df2 = pd.read_sql_query(query2, conn)\n",
        "        df3 = pd.read_sql_query(query3, conn)\n",
        "        df4 = pd.read_sql_query(query4, conn)\n",
        "\n",
        "        df1.to_csv('store_transactions_2023.csv', index=False)\n",
        "        df2.to_csv('new_customers.csv', index=False)\n",
        "        df3.to_csv('top_categories.csv', index=False)\n",
        "        df4.to_csv('monthly_sales.csv', index=False)\n",
        "\n",
        "except sqlite3.Error as e:\n",
        "    print(f\"произошла ошибка: {e.args[0]}\")\n",
        "\n",
        "\n",
        "def analyze_sales_growth(sales_df):\n",
        "    sales_df = sales_df.sort_values('month')\n",
        "    sales_df['growth_rate'] = sales_df['total_sales'].pct_change() * 100\n",
        "    sales_df['growth_rate'] = sales_df['growth_rate'].fillna(0)\n",
        "    return sales_df[['month', 'growth_rate']]"
      ],
      "metadata": {
        "id": "V-GjGdRpXZN_"
      },
      "execution_count": null,
      "outputs": []
    },
    {
      "cell_type": "markdown",
      "source": [
        "3.   Вопросы по Airflow:\n",
        "\n",
        "\n",
        "*   DAG - это направленный ацикличный граф, который задает порядок выполнения задач(data pipeline).\n",
        "*   Scheduler - распределяет задачи по воркерам;\n",
        "\n",
        "Executor - управляет запуском задач на воркерах;\n",
        "\n",
        "Workers - узлы, на которых выполняются задачи.\n",
        "*   Нет, чтобы изменить код DAG'а нужно обновить python-файл, в котором определён DAG. После обновления файла Airflow сам автоматически обнаружит изменения и обновит DAG.\n",
        "\n",
        "\n"
      ],
      "metadata": {
        "id": "FEIhMxBpGLjh"
      }
    }
  ]
}
